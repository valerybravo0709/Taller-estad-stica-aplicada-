{
  "nbformat": 4,
  "nbformat_minor": 0,
  "metadata": {
    "colab": {
      "provenance": [],
      "include_colab_link": true
    },
    "kernelspec": {
      "name": "python3",
      "display_name": "Python 3"
    },
    "language_info": {
      "name": "python"
    }
  },
  "cells": [
    {
      "cell_type": "markdown",
      "metadata": {
        "id": "view-in-github",
        "colab_type": "text"
      },
      "source": [
        "<a href=\"https://colab.research.google.com/github/valerybravo0709/Taller-estad-stica-aplicada-/blob/main/Practica%20R/Clase_Estadistica_Aplicada_I.ipynb\" target=\"_parent\"><img src=\"https://colab.research.google.com/assets/colab-badge.svg\" alt=\"Open In Colab\"/></a>"
      ]
    },
    {
      "cell_type": "markdown",
      "source": [
        "![image.png](data:image/png;base64,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)\n",
        "\n",
        "FACULTAD BARBERI DE INGENIERIAS, DISEÑO Y CIENCIAS APLICADAS.\n",
        "\n",
        "DEPARTAMENTO DE CIENCIAS FISICAS Y APLICADAS.\n",
        "\n",
        "**Profesor:** Daniel Osorio"
      ],
      "metadata": {
        "id": "iXAJbE1xv5DJ"
      }
    },
    {
      "cell_type": "markdown",
      "source": [
        "**Integrantes Grupo:**\n",
        "\n",
        "1.Acosta Granada Sofia\n",
        "2.Bravo Alarcón Valery\n",
        "3.Grijalba Pantoja Sara Sofia\n",
        "4.Toro Navarro Sofia\n",
        "\n",
        "**Grupo:03**\n",
        "\n",
        "**Nota:** Solo lo debe entregar un integrante del grupo\n"
      ],
      "metadata": {
        "id": "DhKexxXVJFIU"
      }
    },
    {
      "cell_type": "markdown",
      "source": [
        "## Analisis Exploratorio con Python"
      ],
      "metadata": {
        "id": "acDY2CtwfcNv"
      }
    },
    {
      "cell_type": "markdown",
      "source": [
        "Las autoridades de salud de la ciudad están preocupadas porque en cierta zona de esta se viene presentado un problema de salud en niños recién nacidos y consideran que el problema se debe a los malos hábitos de vida de las madres. Desarrollan un estudio a todas las madres que durante un periodo de seis meses dieron a luz un bebe en dicha zona. En este estudio se evaluaron aspectos de la historia clínica y sus hábitos de vida. La información de cada una de las madres y su hijo quedó registrada en la siguiente tabla.\n",
        "\n",
        "**Id:** número identificador de la madre.\n",
        "\n",
        "**Bajo_peso:** indica si él recién nacido tuvo bajo paso al momento de nacer (1=Si; 0=No).\n",
        "\n",
        "**Edad:** edad de la madre en años cumplidos.\n",
        "\n",
        "**Peso_madre:** peso de la madre en libras.\n",
        "\n",
        "**Raza:** raza de la madre.\n",
        "\n",
        "**Fumar:** antecedente de consumo de cigarrillo de la madre (1=Si; 0=No).\n",
        "\n",
        "**TPP:** antecedente materno del número partos prematuros antes de este embarazo.\n",
        "\n",
        "**Ant_HTA:** antecedente materno de hipertensión arterial (1=Si; 0=No).\n",
        "\n",
        "**Irrit_uterina:** antecedente en este embarazo de irritabilidad uterina (1=Si; 0=No).\n",
        "\n",
        "**Visitas_md:** número de visitas de control médico en este embarazo.\n",
        "\n",
        "**peso_nacer:** peso real al nacer en gramos del recién nacido\n",
        "\n",
        "**Notas importantes:**\n",
        "- **Abra un espacio debajo de cada ítem para colocar su respuesta. La respuesta valida a cada ítem es la que se encuentre debajo de este.**\n",
        "- **En los puntos 5 a 13 el resultado del procedimiento estadístico vale 50% y 50% la interpretación.**\n",
        "\n",
        "\n",
        "\n",
        "\n",
        "Ayúdele al grupo de investigación a desarrollar el análisis estadístico de las siguientes preguntas:\n",
        "\n",
        "1. Defina la población de estudio.\n",
        "2. Determine si la información de la tabla corresponde a una población a una muestra. Explique claramente.\n",
        "3. Identifique cuáles variables son cualitativas y cuales son cuantitativas.\n",
        "4. Clasifique cada una de las variables como nominal, ordinal, discreta o continua.\n",
        "5. Construya la distribución de frecuencias para el bajo peso al nacer. ¿Existe realmente el problema?\n",
        "6. Construya la distribución de frecuencias de la raza de la madre con el bajo peso. ¿Existe alguna relación?\n",
        "7. Calcular las estadísticas descriptivas del peso al nacer por cada raza de la madre. Compare los resultados.\n",
        "8. Construya la distribución de frecuencias de hábito de fumar por cada bajo peso. ¿Es un indicador del problema?\n",
        "9. Construya la distribución de frecuencias de Hipertensión por cada bajo peso. ¿Es un indicador del problema?\n",
        "10. Calcular las estadísticas descriptivas del número de visitas al médico por cada bajo peso. Compare los resultados.\n",
        "11. Calcular las estadísticas descriptivas del peso de la madre por cada bajo peso. Compare los resultados.\n",
        "12. Construya un gráfico de caja y bigotes para el peso de la madre por cada bajo peso.\n",
        "13. Calcular las estadísticas descriptivas del peso al nacer por hábito de fumar de la madre. Compare los resultados.\n",
        "14. Desarrolle una conclusión general del estudio con base en los resultados obtenidos.\n",
        "\n"
      ],
      "metadata": {
        "id": "JuM-RH-ivTLj"
      }
    },
    {
      "cell_type": "markdown",
      "source": [
        "# ========================================================================\n",
        "# PARTE 1: INSTALACIÓN Y CONFIGURACIÓN DE LIBRERÍAS\n",
        "# ======================================================================\n",
        "\n",
        "¿Por qué necesitamos instalar librerías?\n",
        "\n",
        "Python por sí solo es un lenguaje de programación básico. Para realizar\n",
        "análisis estadístico y científico necesitamos herramientas especializadas.\n",
        "Las librerías son conjuntos de funciones pre-escritas que nos ayudan a:\n",
        "\n",
        "1. **pandas:** Manipular y analizar datos (como Excel pero más poderoso)\n",
        "2. **numpy:** Realizar cálculos matemáticos y estadísticos eficientemente\n",
        "3. **matplotlib:** Crear gráficos y visualizaciones básicas\n",
        "4. **seaborn:** Crear gráficos estadísticos más atractivos y profesionales\n",
        "\n",
        "INSTALACIÓN (ejecutar en terminal o cmd):\n",
        "pip install pandas numpy matplotlib seaborn\n",
        "\n",
        "O en Jupyter/Colab:\n",
        "!pip install pandas numpy matplotlib seaborn (estas ya estan pre-instaladas en Colab)"
      ],
      "metadata": {
        "id": "AARN7ODYtbh2"
      }
    },
    {
      "cell_type": "markdown",
      "source": [
        "Cargamos la extensión para trabajar el entorno de google colab"
      ],
      "metadata": {
        "id": "iosZfIshfmuN"
      }
    },
    {
      "cell_type": "markdown",
      "source": [
        "Importamos los paquetes instalados"
      ],
      "metadata": {
        "id": "VdX4b1LXgG_w"
      }
    },
    {
      "cell_type": "code",
      "source": [
        "import pandas as pd\n",
        "import numpy as np\n",
        "import matplotlib.pyplot as plt\n",
        "import seaborn as sns\n",
        "from scipy import stats\n"
      ],
      "metadata": {
        "id": "UE601v0BoOQ_"
      },
      "execution_count": null,
      "outputs": []
    },
    {
      "cell_type": "code",
      "source": [
        "# Configuración para que los gráficos se vean mejor\n",
        "plt.style.use('seaborn-v0_8')\n",
        "plt.rcParams['figure.figsize'] = (10, 6)\n",
        "plt.rcParams['font.size'] = 12"
      ],
      "metadata": {
        "id": "8Rkx9eqX-aKc"
      },
      "execution_count": null,
      "outputs": []
    },
    {
      "cell_type": "markdown",
      "source": [
        "\n",
        "# =====================================================================\n",
        "# PARTE 2: CARGA DE DATOS\n",
        "# =====================================================================\n",
        "\n",
        "\n",
        "Diferentes formas de cargar datos, diferentes formatos\n",
        "\n",
        "Intenta cargar un archivo en Excel, o txt"
      ],
      "metadata": {
        "id": "ruz1bP_mgNzp"
      }
    },
    {
      "cell_type": "code",
      "source": [
        "# Cargar los datos\n",
        "df = pd.read_csv('https://raw.githubusercontent.com/profedaniel86/Clase-Bioestad-stica/refs/heads/main/Practica%20R/Practica.csv', sep=';')\n"
      ],
      "metadata": {
        "id": "-BQiPuXnoeTc"
      },
      "execution_count": null,
      "outputs": []
    },
    {
      "cell_type": "markdown",
      "source": [
        "## Exploremos los datos"
      ],
      "metadata": {
        "id": "GAb_gf69ga0n"
      }
    },
    {
      "cell_type": "code",
      "source": [
        "# Mostrar información básica del dataset\n",
        "print(\"📊 INFORMACIÓN DEL DATASET\")\n",
        "print(\"=\"*50)\n",
        "print(f\"Número de observaciones (filas): {len(df)}\")\n",
        "print(f\"Número de variables (columnas): {len(df.columns)}\")\n",
        "print(\"\\nPrimeras 5 observaciones:\")\n",
        "print(df.head())\n",
        "\n"
      ],
      "metadata": {
        "colab": {
          "base_uri": "https://localhost:8080/"
        },
        "id": "VaBrm1-AvtX9",
        "outputId": "1ea456a6-fe3e-410c-9412-63dd215203b6"
      },
      "execution_count": null,
      "outputs": [
        {
          "output_type": "stream",
          "name": "stdout",
          "text": [
            "📊 INFORMACIÓN DEL DATASET\n",
            "==================================================\n",
            "Número de observaciones (filas): 189\n",
            "Número de variables (columnas): 11\n",
            "\n",
            "Primeras 5 observaciones:\n",
            "   id  Bajo_peso  Edad  Peso_madre   Raza  Fumar  TPP  Ant_HTA  Irrit_uterina  \\\n",
            "0   1          0    25         120  white      0    0        0              0   \n",
            "1   2          0    25         241  black      0    0        1              0   \n",
            "2   3          0    32         132  white      0    0        0              0   \n",
            "3   4          0    21         124  other      0    0        0              0   \n",
            "4   5          1    24         132  other      0    0        1              0   \n",
            "\n",
            "   Visitas_md  peso_nacer  \n",
            "0           2        3983  \n",
            "1           0        3790  \n",
            "2           4        3080  \n",
            "3           0        2622  \n",
            "4           0        1729  \n"
          ]
        }
      ]
    },
    {
      "cell_type": "markdown",
      "source": [
        "Revisemos los tipos de variables ¿cuáles variables son cualitativas y cuales son cuantitativas?"
      ],
      "metadata": {
        "id": "rW1J-zkN-GeW"
      }
    },
    {
      "cell_type": "code",
      "source": [
        "print(\"\\nTipos de datos:\")\n",
        "print(df.dtypes)"
      ],
      "metadata": {
        "colab": {
          "base_uri": "https://localhost:8080/"
        },
        "id": "2QIFCm44-DcH",
        "outputId": "35a35dcb-c99b-4047-b65d-c8b5f9134049"
      },
      "execution_count": null,
      "outputs": [
        {
          "output_type": "stream",
          "name": "stdout",
          "text": [
            "\n",
            "Tipos de datos:\n",
            "id                int64\n",
            "Bajo_peso         int64\n",
            "Edad              int64\n",
            "Peso_madre        int64\n",
            "Raza             object\n",
            "Fumar             int64\n",
            "TPP               int64\n",
            "Ant_HTA           int64\n",
            "Irrit_uterina     int64\n",
            "Visitas_md        int64\n",
            "peso_nacer        int64\n",
            "dtype: object\n"
          ]
        }
      ]
    },
    {
      "cell_type": "markdown",
      "source": [
        "# ======================================================================\n",
        "# PARTE 3: ANÁLISIS DEL TALLER - PREGUNTAS 1-4 (CONCEPTUALES)\n",
        "# ======================================================================"
      ],
      "metadata": {
        "id": "JFnsqEx6AnTT"
      }
    },
    {
      "cell_type": "markdown",
      "source": [
        "## 1. Población de estudio??\n",
        "\n"
      ],
      "metadata": {
        "id": "ZkfpL0ONu2BZ"
      }
    },
    {
      "cell_type": "markdown",
      "source": [
        "Todas las madres que dieron a luz en esa zona de la ciudad durante el periodo de seis meses, junto con sus recién nacidos"
      ],
      "metadata": {
        "id": "LmjejCewQ5F3"
      }
    },
    {
      "cell_type": "markdown",
      "source": [
        "## 2. Muestral o Poblacional?"
      ],
      "metadata": {
        "id": "m_6fJ0Fr-1_1"
      }
    },
    {
      "cell_type": "markdown",
      "source": [
        "Poblacional, porque el estudio incluyó a todas las madres que dieron a luz en la zona durante el periodo de seis meses. Si la población se hubiera definido como todas las mujeres de la zona en general, entonces los datos corresponderían a una muestra, sin embargo, en este caso la población de interés está delimitada por el estudio mismo"
      ],
      "metadata": {
        "id": "guoGsiLjRgSX"
      }
    },
    {
      "cell_type": "markdown",
      "source": [
        "## 3. Caracteristicas de las variables"
      ],
      "metadata": {
        "id": "-HbbsXqwA4Sh"
      }
    },
    {
      "cell_type": "markdown",
      "source": [
        "Id: Cualitativa Nominal\n",
        "\n",
        "Bajo_peso: Cualitativa Nominal  \n",
        "\n",
        "Edad: Cuantitativa Discreta\n",
        "\n",
        "Peso_madre: Cuantitativa Continua\n",
        "\n",
        "Raza: Cualitativa Nominal\n",
        "\n",
        "Fumar: Cualitativa Nominal\n",
        "\n",
        "TPP: Cuantitativa Discreta\n",
        "\n",
        "Ant_HTA: Cualitativa Nominal\n",
        "\n",
        "Irrit_uterina: Cualitativa Nominal\n",
        "\n",
        "Visitas_md: Cuantitativa Discreta\n",
        "\n",
        "peso_nacer: Cuantitativa Continua"
      ],
      "metadata": {
        "id": "JwxZqIrURzMN"
      }
    },
    {
      "cell_type": "markdown",
      "source": [
        "# ================================================================\n",
        "# PARTE 4: FUNCIONES ÚTILES PARA ANÁLISIS ESTADÍSTICO\n",
        "# ================================================================\n",
        "\n",
        "¿POR QUÉ CREAR FUNCIONES?\n",
        "\n",
        "Las funciones nos permiten:\n",
        "1. Reutilizar código fácilmente\n",
        "2. Organizar mejor nuestro análisis\n",
        "3. Evitar repetir las mismas operaciones\n",
        "4. Hacer el código más legible y profesional\n"
      ],
      "metadata": {
        "id": "RDb5r2KZ_Iii"
      }
    },
    {
      "cell_type": "code",
      "source": [
        "def estadisticas_descriptivas(serie, nombre_variable):\n",
        "    \"\"\"\n",
        "    Calcula estadísticas descriptivas completas para una variable numérica.\n",
        "\n",
        "    Parameters:\n",
        "        serie (pd.Series): Variable numérica a analizar\n",
        "        nombre_variable (str): Nombre de la variable para el reporte\n",
        "\n",
        "    Returns:\n",
        "        pd.DataFrame: DataFrame con todas las estadísticas\n",
        "    \"\"\"\n",
        "\n",
        "    stats = {\n",
        "        'Estadística': ['Número de observaciones', 'Media', 'Mediana', 'Moda',\n",
        "                       'Desviación estándar', 'Varianza', 'Mínimo', 'Máximo',\n",
        "                       'Q1 (Percentil 25)', 'Q3 (Percentil 75)', 'Rango intercuartílico',\n",
        "                       'Coeficiente de variación (%)'],\n",
        "        'Valor': [\n",
        "            len(serie),\n",
        "            round(serie.mean(), 2),\n",
        "            round(serie.median(), 2),\n",
        "            serie.mode().iloc[0] if len(serie.mode()) > 0 else 'N/A',\n",
        "            round(serie.std(), 2),\n",
        "            round(serie.var(), 2),\n",
        "            serie.min(),\n",
        "            serie.max(),\n",
        "            round(serie.quantile(0.25), 2),\n",
        "            round(serie.quantile(0.75), 2),\n",
        "            round(serie.quantile(0.75) - serie.quantile(0.25), 2),\n",
        "            round((serie.std() / serie.mean()) * 100, 2) if serie.mean() != 0 else 'N/A'\n",
        "        ]\n",
        "    }\n",
        "\n",
        "    resultado = pd.DataFrame(stats)\n",
        "\n",
        "    print(f\"\\n📈 ESTADÍSTICAS DESCRIPTIVAS: {nombre_variable.upper()}\")\n",
        "    print(\"=\"*60)\n",
        "    print(resultado.to_string(index=False))\n",
        "\n",
        "    return resultado"
      ],
      "metadata": {
        "id": "2Yo33R3b_SiK"
      },
      "execution_count": null,
      "outputs": []
    },
    {
      "cell_type": "code",
      "source": [
        "def tabla_frecuencias(serie, nombre_variable):\n",
        "    \"\"\"\n",
        "    Crea una tabla de frecuencias para variables categóricas.\n",
        "\n",
        "    Parameters:\n",
        "        serie (pd.Series): Variable categórica a analizar\n",
        "        nombre_variable (str): Nombre de la variable\n",
        "\n",
        "    Returns:\n",
        "        pd.DataFrame: Tabla de frecuencias completa\n",
        "    \"\"\"\n",
        "\n",
        "    # Calcular frecuencias\n",
        "    freq_abs = serie.value_counts().sort_index()\n",
        "    freq_rel = serie.value_counts(normalize=True).sort_index() * 100\n",
        "    freq_acum = freq_abs.cumsum()\n",
        "    freq_rel_acum = freq_rel.cumsum()\n",
        "\n",
        "    # Crear tabla\n",
        "    tabla = pd.DataFrame({\n",
        "        'Categoría': freq_abs.index,\n",
        "        'Frecuencia Absoluta': freq_abs.values,\n",
        "        'Frecuencia Relativa (%)': np.round(freq_rel.values, 2),\n",
        "        'Frecuencia Acumulada': freq_acum.values,\n",
        "        'Frecuencia Rel. Acumulada (%)': np.round(freq_rel_acum.values, 2)\n",
        "    })\n",
        "\n",
        "    # Agregar totales\n",
        "    total = pd.DataFrame({\n",
        "        'Categoría': ['TOTAL'],\n",
        "        'Frecuencia Absoluta': [freq_abs.sum()],\n",
        "        'Frecuencia Relativa (%)': [100.0],\n",
        "        'Frecuencia Acumulada': [freq_abs.sum()],\n",
        "        'Frecuencia Rel. Acumulada (%)': [100.0]\n",
        "    })\n",
        "\n",
        "    tabla = pd.concat([tabla, total], ignore_index=True)\n",
        "\n",
        "    print(f\"\\n📊 TABLA DE FRECUENCIAS: {nombre_variable.upper()}\")\n",
        "    print(\"=\"*70)\n",
        "    print(tabla.to_string(index=False))\n",
        "\n",
        "    return tabla"
      ],
      "metadata": {
        "id": "B9Oe0dMa_bn3"
      },
      "execution_count": null,
      "outputs": []
    },
    {
      "cell_type": "code",
      "source": [
        "def tabla_cruzada(var1, var2, nombre_var1, nombre_var2, normalize=None):\n",
        "    \"\"\"\n",
        "    Crea una tabla cruzada entre dos variables categóricas.\n",
        "\n",
        "    Parameters:\n",
        "        var1, var2 (pd.Series): Variables a cruzar\n",
        "        nombre_var1, nombre_var2 (str): Nombres de las variables\n",
        "        normalize (str, optional): Define cómo normalizar las frecuencias.\n",
        "                                   'index': normaliza por fila.\n",
        "                                   'columns': normaliza por columna.\n",
        "                                   'all': normaliza por el total.\n",
        "                                   None: no normaliza. Por defecto, None.\n",
        "\n",
        "    Returns:\n",
        "        pd.DataFrame: Tabla cruzada con totales y/o porcentajes\n",
        "    \"\"\"\n",
        "\n",
        "    # Tabla cruzada básica con totales\n",
        "    tabla = pd.crosstab(var1, var2, margins=True, margins_name=\"TOTAL\")\n",
        "\n",
        "    print(f\"\\n🔄 TABLA CRUZADA: {nombre_var1.upper()} vs {nombre_var2.upper()}\")\n",
        "    print(\"=\"*70)\n",
        "    print(\"FRECUENCIAS ABSOLUTAS:\")\n",
        "    print(tabla)\n",
        "\n",
        "    if normalize is not None:\n",
        "        # Tabla de porcentajes\n",
        "        tabla_pct = pd.crosstab(var1, var2, normalize=normalize, margins=True, margins_name=\"TOTAL\") * 100\n",
        "\n",
        "        print(f\"\\nPORCENTAJES ({normalize if normalize != 'index' else 'por fila'}):\")\n",
        "        print(np.round(tabla_pct, 2))\n",
        "        return tabla, tabla_pct\n",
        "    else:\n",
        "        return tabla, None"
      ],
      "metadata": {
        "id": "JrmRa3hv_gMk"
      },
      "execution_count": null,
      "outputs": []
    },
    {
      "cell_type": "markdown",
      "source": [
        "\n",
        "\n",
        "#====================================================================\n",
        "# PARTE 5: ANÁLISIS ESTADÍSTICO - PREGUNTAS 5-13\n",
        "# ===================================================================="
      ],
      "metadata": {
        "id": "nFFfNes7u3Fm"
      }
    },
    {
      "cell_type": "markdown",
      "source": [
        "### 5. Construya la distribución de frecuencias para el bajo peso al nacer. ¿Existe realmente el problema?"
      ],
      "metadata": {
        "id": "d8-5egk9xaFx"
      }
    },
    {
      "cell_type": "code",
      "source": [
        "## Sin nuestras funciones\n",
        "print(df['Bajo_peso'].value_counts())\n",
        "print(df['Bajo_peso'].value_counts(normalize=True))"
      ],
      "metadata": {
        "colab": {
          "base_uri": "https://localhost:8080/"
        },
        "id": "Lf9ZTBz_3JUE",
        "outputId": "190a1f55-7367-4727-a859-e9b14c6c7936"
      },
      "execution_count": null,
      "outputs": [
        {
          "output_type": "stream",
          "name": "stdout",
          "text": [
            "Bajo_peso\n",
            "0    130\n",
            "1     59\n",
            "Name: count, dtype: int64\n",
            "Bajo_peso\n",
            "0    0.687831\n",
            "1    0.312169\n",
            "Name: proportion, dtype: float64\n"
          ]
        }
      ]
    },
    {
      "cell_type": "code",
      "source": [
        "print(\"\\n\" + \"=\"*60)\n",
        "print(\"5: DISTRIBUCIÓN DE BAJO PESO AL NACER\")\n",
        "print(\"=\"*60)\n",
        "\n",
        "tabla_bajo_peso = tabla_frecuencias(df['Bajo_peso'], 'Bajo Peso al Nacer')"
      ],
      "metadata": {
        "colab": {
          "base_uri": "https://localhost:8080/"
        },
        "id": "fHQlzlg-BTRq",
        "outputId": "e2b01a3e-8542-412f-8b56-eca2aef52821"
      },
      "execution_count": null,
      "outputs": [
        {
          "output_type": "stream",
          "name": "stdout",
          "text": [
            "\n",
            "============================================================\n",
            "5: DISTRIBUCIÓN DE BAJO PESO AL NACER\n",
            "============================================================\n",
            "\n",
            "📊 TABLA DE FRECUENCIAS: BAJO PESO AL NACER\n",
            "======================================================================\n",
            "Categoría  Frecuencia Absoluta  Frecuencia Relativa (%)  Frecuencia Acumulada  Frecuencia Rel. Acumulada (%)\n",
            "        0                  130                    68.78                   130                          68.78\n",
            "        1                   59                    31.22                   189                         100.00\n",
            "    TOTAL                  189                   100.00                   189                         100.00\n"
          ]
        }
      ]
    },
    {
      "cell_type": "markdown",
      "source": [
        "# =====================================================================\n",
        "# PARTE 6: VISUALIZACIONES\n",
        "# =====================================================================\n",
        "\n",
        "¿POR QUÉ HACER GRÁFICOS?\n",
        "\n",
        "Los gráficos nos ayudan a:\n",
        "1. Entender los datos más rápidamente\n",
        "2. Identificar patrones y tendencias\n",
        "3. Comunicar resultados de forma efectiva\n",
        "4. Detectar valores atípicos o anomalías\n"
      ],
      "metadata": {
        "id": "NbNO5iEYDZeq"
      }
    },
    {
      "cell_type": "code",
      "source": [
        "def crear_graficos_frecuencia(variable, titulo, tipo='bar'):\n",
        "    \"\"\"\n",
        "    Crea gráficos de frecuencia para variables categóricas.\n",
        "\n",
        "    Parameters:\n",
        "        variable (pd.Series): Variable a graficar\n",
        "        titulo (str): Título del gráfico\n",
        "        tipo (str): Tipo de gráfico ('bar', 'pie')\n",
        "    \"\"\"\n",
        "\n",
        "    fig, (ax1, ax2) = plt.subplots(1, 2, figsize=(15, 6))\n",
        "\n",
        "    # Gráfico de barras\n",
        "    freq = variable.value_counts()\n",
        "    freq.plot(kind='bar', ax=ax1, color=['skyblue', 'lightcoral'])\n",
        "    ax1.set_title(f'{titulo} - Frecuencias Absolutas')\n",
        "    ax1.set_xlabel('Categorías')\n",
        "    ax1.set_ylabel('Frecuencia')\n",
        "    ax1.tick_params(axis='x', rotation=45)\n",
        "\n",
        "    # Agregar valores en las barras\n",
        "    for i, v in enumerate(freq.values):\n",
        "        ax1.text(i, v + 0.5, str(v), ha='center')\n",
        "\n",
        "    # Gráfico de pastel\n",
        "    freq.plot(kind='pie', ax=ax2, autopct='%1.1f%%', startangle=90,\n",
        "              colors=['skyblue', 'lightcoral'])\n",
        "    ax2.set_title(f'{titulo} - Distribución Porcentual')\n",
        "    ax2.set_ylabel('')\n",
        "\n",
        "    plt.tight_layout()\n",
        "    plt.show()"
      ],
      "metadata": {
        "id": "oeSBqyKbDive"
      },
      "execution_count": null,
      "outputs": []
    },
    {
      "cell_type": "code",
      "source": [
        "# Crear gráficos para bajo peso\n",
        "crear_graficos_frecuencia(df['Bajo_peso'], 'Distribución de Bajo Peso al Nacer')"
      ],
      "metadata": {
        "colab": {
          "base_uri": "https://localhost:8080/",
          "height": 601
        },
        "id": "1u57fAMYEhGu",
        "outputId": "32ee4fe0-6be6-4ba9-da4e-f150496854b6"
      },
      "execution_count": null,
      "outputs": [
        {
          "output_type": "display_data",
          "data": {
            "text/plain": [
              "<Figure size 1500x600 with 2 Axes>"
            ],
            "image/png": "[encoded data removed]"
          },
          "metadata": {}
        }
      ]
    },
    {
      "cell_type": "code",
      "source": [
        "# Interpretación\n",
        "casos_bajo_peso = df['Bajo_peso'].sum()\n",
        "total_casos = len(df)\n",
        "porcentaje_problema = (casos_bajo_peso / total_casos) * 100"
      ],
      "metadata": {
        "id": "nrdOJig5CseM"
      },
      "execution_count": null,
      "outputs": []
    },
    {
      "cell_type": "code",
      "source": [
        "print(f\"\"\"\n",
        "📊 INTERPRETACIÓN:\n",
        "- Se registraron {casos_bajo_peso} casos de bajo peso al nacer de {total_casos} nacimientos\n",
        "- Esto representa el {porcentaje_problema:.1f}% de los casos\n",
        "- {'SÍ existe un problema significativo' if porcentaje_problema > 15 else 'El problema es moderado'}\n",
        "  (OMS considera problemático >15% de bajo peso al nacer)\n",
        "\"\"\")"
      ],
      "metadata": {
        "colab": {
          "base_uri": "https://localhost:8080/"
        },
        "id": "m3n0L-3zCvWp",
        "outputId": "f28aa381-22fa-4e6c-cf80-f30ec516d78f"
      },
      "execution_count": null,
      "outputs": [
        {
          "output_type": "stream",
          "name": "stdout",
          "text": [
            "\n",
            "📊 INTERPRETACIÓN:\n",
            "- Se registraron 59 casos de bajo peso al nacer de 189 nacimientos\n",
            "- Esto representa el 31.2% de los casos\n",
            "- SÍ existe un problema significativo \n",
            "  (OMS considera problemático >15% de bajo peso al nacer)\n",
            "\n"
          ]
        }
      ]
    },
    {
      "cell_type": "markdown",
      "source": [
        "En los datos, observamos que un 69% de los niños nacieron con peso normal, mientras que un 31% con bajo peso, lo que representa un valor alto en el contexto del problema"
      ],
      "metadata": {
        "id": "Tv71Ii8-u66Z"
      }
    },
    {
      "cell_type": "markdown",
      "source": [
        "### 6. Construya la distribución de frecuencias de la raza de la madre con el bajo peso. ¿Existe alguna relación?"
      ],
      "metadata": {
        "id": "jVo_sCfpCfBN"
      }
    },
    {
      "cell_type": "code",
      "source": [
        "print(\"\\n\" + \"=\"*60)\n",
        "print(\"6: BAJO PESO POR RAZA DE LA MADRE\")\n",
        "print(\"=\"*60)\n",
        "\n",
        "tabla_raza_bajo_peso, pct_raza_bajo_peso = tabla_cruzada(\n",
        "    df['Raza'], df['Bajo_peso'], 'Raza', 'Bajo Peso', normalize='index'\n",
        ")"
      ],
      "metadata": {
        "colab": {
          "base_uri": "https://localhost:8080/"
        },
        "id": "yac_72V9tf61",
        "outputId": "9c2a6065-6aa5-4869-a1a7-ec883093d177"
      },
      "execution_count": null,
      "outputs": [
        {
          "output_type": "stream",
          "name": "stdout",
          "text": [
            "\n",
            "============================================================\n",
            "6: BAJO PESO POR RAZA DE LA MADRE\n",
            "============================================================\n",
            "\n",
            "🔄 TABLA CRUZADA: RAZA vs BAJO PESO\n",
            "======================================================================\n",
            "FRECUENCIAS ABSOLUTAS:\n",
            "Bajo_peso    0   1  TOTAL\n",
            "Raza                     \n",
            "black       15  11     26\n",
            "other       42  25     67\n",
            "white       73  23     96\n",
            "TOTAL      130  59    189\n",
            "\n",
            "PORCENTAJES (por fila):\n",
            "Bajo_peso      0      1\n",
            "Raza                   \n",
            "black      57.69  42.31\n",
            "other      62.69  37.31\n",
            "white      76.04  23.96\n",
            "TOTAL      68.78  31.22\n"
          ]
        }
      ]
    },
    {
      "cell_type": "code",
      "source": [
        "# Tabla de frecuencia relativa por filas (normalizada)\n",
        "frec_relativa_filas = pd.crosstab(df['Raza'], df['Bajo_peso'], normalize='index') * 100\n",
        "\n",
        "# Gráfico de barras apiladas al 100%\n",
        "frec_relativa_filas.plot(kind=\"bar\", stacked=True, colormap=\"viridis\", figsize=(8,6))\n",
        "\n",
        "plt.title(\"Distribución Relativa de Bajo Peso por Raza\")\n",
        "plt.xlabel(\"Raza\")\n",
        "plt.ylabel(\"Porcentaje (%)\")\n",
        "plt.legend(title=\"Bajo Peso\")\n",
        "plt.ylim(0, 100)  # Asegura que el eje y vaya de 0 a 100%\n",
        "plt.grid(axis=\"y\", linestyle=\"--\", alpha=0.7)\n",
        "\n",
        "plt.show()"
      ],
      "metadata": {
        "id": "QVmSB_5TNiu_",
        "outputId": "fa3ff915-6b51-4a8f-e56d-38571f624f4c",
        "colab": {
          "base_uri": "https://localhost:8080/",
          "height": 581
        }
      },
      "execution_count": null,
      "outputs": [
        {
          "output_type": "display_data",
          "data": {
            "text/plain": [
              "<Figure size 800x600 with 1 Axes>"
            ],
            "image/png": "[encoded data removed]"
          },
          "metadata": {}
        }
      ]
    },
    {
      "cell_type": "markdown",
      "source": [
        "Interpretar ....."
      ],
      "metadata": {
        "id": "y4lsXQNzFjpG"
      }
    },
    {
      "cell_type": "markdown",
      "source": [
        "## 7. Calcular las estadísticas descriptivas del peso al nacer por cada raza de la madre. Compare los resultados."
      ],
      "metadata": {
        "id": "DoF10h-uMWu4"
      }
    },
    {
      "cell_type": "code",
      "source": [
        "for raza in df['Raza'].unique():\n",
        "    datos_raza = df[df['Raza'] == raza]['peso_nacer']\n",
        "    estadisticas_descriptivas(datos_raza, f'Peso al nacer - Raza {raza}')"
      ],
      "metadata": {
        "colab": {
          "base_uri": "https://localhost:8080/"
        },
        "id": "5LRBj0RsGYRM",
        "outputId": "34bebe5f-f8fa-4aed-abc7-69746ee53361"
      },
      "execution_count": null,
      "outputs": [
        {
          "output_type": "stream",
          "name": "stdout",
          "text": [
            "\n",
            "📈 ESTADÍSTICAS DESCRIPTIVAS: PESO AL NACER - RAZA WHITE\n",
            "============================================================\n",
            "                 Estadística     Valor\n",
            "     Número de observaciones     96.00\n",
            "                       Media   3103.01\n",
            "                     Mediana   3076.00\n",
            "                        Moda   3651.00\n",
            "         Desviación estándar    727.87\n",
            "                    Varianza 529798.28\n",
            "                      Mínimo   1021.00\n",
            "                      Máximo   4990.00\n",
            "           Q1 (Percentil 25)   2584.75\n",
            "           Q3 (Percentil 75)   3651.00\n",
            "       Rango intercuartílico   1066.25\n",
            "Coeficiente de variación (%)     23.46\n",
            "\n",
            "📈 ESTADÍSTICAS DESCRIPTIVAS: PESO AL NACER - RAZA BLACK\n",
            "============================================================\n",
            "                 Estadística     Valor\n",
            "     Número de observaciones     26.00\n",
            "                       Media   2719.69\n",
            "                     Mediana   2849.00\n",
            "                        Moda   2920.00\n",
            "         Desviación estándar    638.68\n",
            "                    Varianza 407917.10\n",
            "                      Mínimo   1135.00\n",
            "                      Máximo   3860.00\n",
            "           Q1 (Percentil 25)   2370.50\n",
            "           Q3 (Percentil 75)   3057.00\n",
            "       Rango intercuartílico    686.50\n",
            "Coeficiente de variación (%)     23.48\n",
            "\n",
            "📈 ESTADÍSTICAS DESCRIPTIVAS: PESO AL NACER - RAZA OTHER\n",
            "============================================================\n",
            "                 Estadística     Valor\n",
            "     Número de observaciones     67.00\n",
            "                       Media   2804.01\n",
            "                     Mediana   2835.00\n",
            "                        Moda   3203.00\n",
            "         Desviación estándar    721.30\n",
            "                    Varianza 520275.35\n",
            "                      Mínimo    709.00\n",
            "                      Máximo   4054.00\n",
            "           Q1 (Percentil 25)   2313.00\n",
            "           Q3 (Percentil 75)   3274.00\n",
            "       Rango intercuartílico    961.00\n",
            "Coeficiente de variación (%)     25.72\n"
          ]
        }
      ]
    },
    {
      "cell_type": "markdown",
      "source": [
        "Interpretar..."
      ],
      "metadata": {
        "id": "_HEpNoqcGl-8"
      }
    },
    {
      "cell_type": "markdown",
      "source": [
        "## 12. Construya un gráfico de caja y bigotes para el peso de la madre por cada bajo peso."
      ],
      "metadata": {
        "id": "fVyc4VAKMzMc"
      }
    },
    {
      "cell_type": "code",
      "source": [
        "def boxplot_comparativo(data, variable_numerica, variable_categorica, titulo):\n",
        "    \"\"\"\n",
        "    Crea un boxplot comparativo entre grupos.\n",
        "\n",
        "    Parameters:\n",
        "        data (pd.DataFrame): Dataset\n",
        "        variable_numerica (str): Variable numérica a comparar\n",
        "        variable_categorica (str): Variable categórica para agrupar\n",
        "        titulo (str): Título del gráfico\n",
        "    \"\"\"\n",
        "\n",
        "    plt.figure(figsize=(10, 6))\n",
        "\n",
        "    # Crear boxplot\n",
        "    sns.boxplot(data=data, x=variable_categorica, y=variable_numerica,\n",
        "                palette=['lightblue', 'lightcoral'])\n",
        "\n",
        "    plt.title(titulo)\n",
        "    plt.xlabel(variable_categorica.replace('_', ' ').title())\n",
        "    plt.ylabel(variable_numerica.replace('_', ' ').title())\n",
        "\n",
        "    # Agregar estadísticas en el gráfico\n",
        "    for i, categoria in enumerate(data[variable_categorica].unique()):\n",
        "        subset = data[data[variable_categorica] == categoria][variable_numerica]\n",
        "        media = subset.mean()\n",
        "        plt.text(i, media, f'Media: {media:.0f}',\n",
        "                ha='center', va='bottom',\n",
        "                bbox=dict(boxstyle='round,pad=0.3', facecolor='yellow', alpha=0.7))\n",
        "\n",
        "    plt.tight_layout()\n",
        "    plt.show()"
      ],
      "metadata": {
        "id": "JkU4rJvZEpR4"
      },
      "execution_count": null,
      "outputs": []
    },
    {
      "cell_type": "code",
      "source": [
        "boxplot_comparativo(df, 'Peso_madre', 'Bajo_peso',\n",
        "                   'Distribución del Peso de la Madre según Bajo Peso del Recién Nacido')"
      ],
      "metadata": {
        "colab": {
          "base_uri": "https://localhost:8080/",
          "height": 688
        },
        "id": "B8NJdvFXEqd9",
        "outputId": "589fc9b5-6273-43c6-dbef-09692063e998"
      },
      "execution_count": null,
      "outputs": [
        {
          "output_type": "stream",
          "name": "stderr",
          "text": [
            "/tmp/ipython-input-948109130.py:15: FutureWarning: \n",
            "\n",
            "Passing `palette` without assigning `hue` is deprecated and will be removed in v0.14.0. Assign the `x` variable to `hue` and set `legend=False` for the same effect.\n",
            "\n",
            "  sns.boxplot(data=data, x=variable_categorica, y=variable_numerica,\n"
          ]
        },
        {
          "output_type": "display_data",
          "data": {
            "text/plain": [
              "<Figure size 1000x600 with 1 Axes>"
            ],
            "image/png": "[encoded data removed]"
          },
          "metadata": {}
        }
      ]
    },
    {
      "cell_type": "markdown",
      "source": [
        "## 🎯 SIGUIENTES ACTIVIDADES:\n",
        "\n",
        "1. Completa el análisis de las preguntas 7-11 usando las funciones creadas\n",
        "2. Interpreta los resultados estadísticos obtenidos\n",
        "3. Crea visualizaciones adicionales para otras variables\n",
        "4. Desarrolla la conclusión general del estudio (pregunta 14)\n",
        "\n",
        "💡 CONSEJOS:\n",
        "- Usa las funciones estadisticas_descriptivas() para variables numéricas\n",
        "- Usa tabla_frecuencias() y tabla_cruzada() para variables categóricas\n",
        "- Siempre interpreta los resultados en el contexto del problema\n",
        "- Compara los grupos de interés (bajo peso vs peso normal)"
      ],
      "metadata": {
        "id": "l2V0Y_8SE-vm"
      }
    },
    {
      "cell_type": "code",
      "source": [
        "#                        Otros gráficos                       #\n",
        "\n",
        "# Histograma de 'peso_nacer'\n",
        "plt.figure(figsize=(10, 6))\n",
        "\n",
        "# Histograma con barras rojas y curva de densidad azul\n",
        "sns.histplot(df['peso_nacer'], bins=20, kde=True, color='blue',\n",
        "             line_kws={'color': 'red', 'linewidth': 2})  # Personalizar la curva KDE\n",
        "\n",
        "# Títulos y etiquetas\n",
        "plt.title(\"Histograma de Peso al Nacer\")\n",
        "plt.xlabel(\"Peso al Nacer (gramos)\")\n",
        "plt.ylabel(\"Frecuencia\")\n",
        "\n",
        "# Mostrar gráfico\n",
        "plt.show()\n",
        "\n"
      ],
      "metadata": {
        "colab": {
          "base_uri": "https://localhost:8080/",
          "height": 564
        },
        "id": "eA6UkdT-prdo",
        "outputId": "296d4890-fe41-4141-cb19-528caed846fb"
      },
      "execution_count": null,
      "outputs": [
        {
          "output_type": "display_data",
          "data": {
            "text/plain": [
              "<Figure size 1000x600 with 1 Axes>"
            ],
            "image/png": "[encoded data removed]"
          },
          "metadata": {}
        }
      ]
    },
    {
      "cell_type": "code",
      "source": [],
      "metadata": {
        "id": "QEPcOC1bTh8Y"
      },
      "execution_count": null,
      "outputs": []
    }
  ]
}